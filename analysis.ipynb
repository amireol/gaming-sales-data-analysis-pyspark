{
 "cells": [
  {
   "cell_type": "code",
   "execution_count": 1,
   "id": "45b48f1c",
   "metadata": {},
   "outputs": [
    {
     "data": {
      "text/plain": [
       "'C:\\\\Users\\\\mehrmall\\\\spark'"
      ]
     },
     "execution_count": 1,
     "metadata": {},
     "output_type": "execute_result"
    }
   ],
   "source": [
    "import findspark\n",
    "\n",
    "findspark.init()\n",
    "findspark.find()"
   ]
  },
  {
   "cell_type": "code",
   "execution_count": 2,
   "id": "01be4a10",
   "metadata": {},
   "outputs": [],
   "source": [
    "from pyspark.sql import SparkSession"
   ]
  },
  {
   "cell_type": "code",
   "execution_count": 3,
   "id": "559e05a3",
   "metadata": {},
   "outputs": [
    {
     "data": {
      "text/html": [
       "\n",
       "            <div>\n",
       "                <p><b>SparkSession - in-memory</b></p>\n",
       "                \n",
       "        <div>\n",
       "            <p><b>SparkContext</b></p>\n",
       "\n",
       "            <p><a href=\"http://DESKTOP-3EABS99:4040\">Spark UI</a></p>\n",
       "\n",
       "            <dl>\n",
       "              <dt>Version</dt>\n",
       "                <dd><code>v3.4.1</code></dd>\n",
       "              <dt>Master</dt>\n",
       "                <dd><code>local[*]</code></dd>\n",
       "              <dt>AppName</dt>\n",
       "                <dd><code>Sale Analysis</code></dd>\n",
       "            </dl>\n",
       "        </div>\n",
       "        \n",
       "            </div>\n",
       "        "
      ],
      "text/plain": [
       "<pyspark.sql.session.SparkSession at 0x1b53d733a90>"
      ]
     },
     "execution_count": 3,
     "metadata": {},
     "output_type": "execute_result"
    }
   ],
   "source": [
    "spark = SparkSession.builder.appName('Sale Analysis').getOrCreate()\n",
    "spark"
   ]
  },
  {
   "cell_type": "code",
   "execution_count": 71,
   "id": "6871c410",
   "metadata": {},
   "outputs": [
    {
     "name": "stdout",
     "output_type": "stream",
     "text": [
      "+----+-------+----+------------+--------------------+------+------------------+-------------------+-------------------+\n",
      "|  ID|CONSOLE|YEAR|    CATEGORY|           PUBLISHER|RATING|    CRITICS_POINTS|        USER_POINTS|    SalesInMillions|\n",
      "+----+-------+----+------------+--------------------+------+------------------+-------------------+-------------------+\n",
      "|2860|     ds|2008|role-playing|            Nintendo|     E|2.8333333333333335| 0.3037037037037037| 1.7792573645377137|\n",
      "| 731|    wii|2012|  simulation|Konami Digital En...|  E10+|              13.2|               1.64|0.21504956996959468|\n",
      "| 495|     pc|2019|     shooter|          Activision|     M|            4.5625|0.00641025641025641| 0.5344016462886677|\n",
      "|2641|    ps2|2002|      sports|     Electronic Arts|     E| 4.181818181818182| 0.3269230769230769| 1.3839642351062431|\n",
      "| 811|    ps3|2013|      action|          Activision|     M| 2.259259259259259|0.03257918552036199|0.08267053460319962|\n",
      "|1803|    ps2|2004|    platform|Sony Computer Ent...|     E|2.5714285714285716|0.02770700636942675|  4.491289146341048|\n",
      "|1470|    psp|2008|    strategy|        Idea Factory|     T|              17.5| 0.4647058823529412| 0.7913054538456433|\n",
      "|3781|    ps3|2014|      racing|               Atari|     T| 1.627906976744186|0.13863636363636364| 1.9756612907471571|\n",
      "+----+-------+----+------------+--------------------+------+------------------+-------------------+-------------------+\n",
      "only showing top 8 rows\n",
      "\n"
     ]
    }
   ],
   "source": [
    "data = spark.read.csv('Train.csv', header=True, inferSchema=True)\n",
    "data.show(8)"
   ]
  },
  {
   "cell_type": "code",
   "execution_count": 72,
   "id": "7419b1cf",
   "metadata": {},
   "outputs": [],
   "source": [
    "data = data.drop('ID')"
   ]
  },
  {
   "cell_type": "code",
   "execution_count": null,
   "id": "e48463d7",
   "metadata": {},
   "outputs": [],
   "source": [
    "from pyspark.sql.functions import isnull, isnan, count, when, col, countDistinct"
   ]
  },
  {
   "cell_type": "code",
   "execution_count": 19,
   "id": "489f5f98",
   "metadata": {},
   "outputs": [
    {
     "name": "stdout",
     "output_type": "stream",
     "text": [
      "+---+-------+----+--------+---------+------+--------------+-----------+---------------+\n",
      "| ID|CONSOLE|YEAR|CATEGORY|PUBLISHER|RATING|CRITICS_POINTS|USER_POINTS|SalesInMillions|\n",
      "+---+-------+----+--------+---------+------+--------------+-----------+---------------+\n",
      "|  0|      0|   0|       0|        0|     0|             0|          0|              0|\n",
      "+---+-------+----+--------+---------+------+--------------+-----------+---------------+\n",
      "\n"
     ]
    }
   ],
   "source": [
    "data.select([count(when((isnan(c)|isnull(c)), c)).alias(c) for c in data.columns]).show()"
   ]
  },
  {
   "cell_type": "code",
   "execution_count": 73,
   "id": "267426b2",
   "metadata": {},
   "outputs": [
    {
     "name": "stdout",
     "output_type": "stream",
     "text": [
      "root\n",
      " |-- CONSOLE: string (nullable = true)\n",
      " |-- YEAR: integer (nullable = true)\n",
      " |-- CATEGORY: string (nullable = true)\n",
      " |-- PUBLISHER: string (nullable = true)\n",
      " |-- RATING: string (nullable = true)\n",
      " |-- CRITICS_POINTS: double (nullable = true)\n",
      " |-- USER_POINTS: double (nullable = true)\n",
      " |-- SalesInMillions: double (nullable = true)\n",
      "\n"
     ]
    }
   ],
   "source": [
    "data.printSchema()"
   ]
  },
  {
   "cell_type": "code",
   "execution_count": 31,
   "id": "343b8881",
   "metadata": {},
   "outputs": [
    {
     "name": "stdout",
     "output_type": "stream",
     "text": [
      "+-------+----+--------+---------+------+--------------+-----------+---------------+\n",
      "|CONSOLE|YEAR|CATEGORY|PUBLISHER|RATING|CRITICS_POINTS|USER_POINTS|SalesInMillions|\n",
      "+-------+----+--------+---------+------+--------------+-----------+---------------+\n",
      "|     17|  23|      12|      204|     6|          1683|       2202|           3506|\n",
      "+-------+----+--------+---------+------+--------------+-----------+---------------+\n",
      "\n"
     ]
    }
   ],
   "source": [
    "data.agg(*(countDistinct(col(c)).alias(c) for c in data.columns)).show()"
   ]
  },
  {
   "cell_type": "code",
   "execution_count": 77,
   "id": "4d0161ef",
   "metadata": {},
   "outputs": [
    {
     "name": "stdout",
     "output_type": "stream",
     "text": [
      "+-------+--------------------+\n",
      "|CONSOLE|sum(SalesInMillions)|\n",
      "+-------+--------------------+\n",
      "|    ps3|   986.0796071263729|\n",
      "|    psv|  105.85129867090379|\n",
      "|   x360|   1086.224411747302|\n",
      "|      x|   462.3871834483602|\n",
      "|     ps|  197.34687742096602|\n",
      "|    psp|  337.44769535175175|\n",
      "|    ps2|  1273.7950645303797|\n",
      "|     ds|   526.7266360224263|\n",
      "|   xone|   185.8433670999068|\n",
      "|    wii|   743.1045899652238|\n",
      "|     dc|   8.765281251187663|\n",
      "|    3ds|  178.42191798919606|\n",
      "|   wiiu|  101.45957723819255|\n",
      "|     gc|   310.3876118753533|\n",
      "|     pc|   549.5314770515059|\n",
      "|    gba|  255.90303048545456|\n",
      "|    ps4|  302.32348396169664|\n",
      "+-------+--------------------+\n",
      "\n"
     ]
    }
   ],
   "source": [
    "data.groupBy('CONSOLE').sum('SalesInMillions').show()"
   ]
  },
  {
   "cell_type": "code",
   "execution_count": 35,
   "id": "35ae61b0",
   "metadata": {},
   "outputs": [
    {
     "name": "stdout",
     "output_type": "stream",
     "text": [
      "+------+-------------------+\n",
      "|RATING|   avg(USER_POINTS)|\n",
      "+------+-------------------+\n",
      "|     E| 0.5510362333296336|\n",
      "|     T|0.39674710444301803|\n",
      "|   K-A|0.15416666666666667|\n",
      "|     M|0.17590941618530223|\n",
      "|    RP| 0.5059259259259259|\n",
      "|  E10+| 0.4624107654743019|\n",
      "+------+-------------------+\n",
      "\n"
     ]
    }
   ],
   "source": [
    "data.groupBy('RATING').avg('USER_POINTS').show()"
   ]
  },
  {
   "cell_type": "code",
   "execution_count": 43,
   "id": "34180ef5",
   "metadata": {},
   "outputs": [
    {
     "name": "stdout",
     "output_type": "stream",
     "text": [
      "+--------------------+--------------------+\n",
      "|           PUBLISHER|sum(SalesInMillions)|\n",
      "+--------------------+--------------------+\n",
      "|     Electronic Arts|  1145.5190156365447|\n",
      "|            Nintendo|   786.3247579236017|\n",
      "|          Activision|   678.2391367369747|\n",
      "|             Ubisoft|  497.37845537188645|\n",
      "|Sony Computer Ent...|   383.3700066355024|\n",
      "|Take-Two Interactive|  352.08990325645334|\n",
      "|                 Thq|  341.95171371031245|\n",
      "|                Sega|  268.30487675096987|\n",
      "|Microsoft Game St...|   255.1983601608654|\n",
      "|Konami Digital En...|   195.1477716192783|\n",
      "|  Namco Bandai Games|  192.49556183569206|\n",
      "|               Atari|   169.7820858473409|\n",
      "|              Capcom|   169.6484144273985|\n",
      "|Warner Bros. Inte...|  152.74979641552588|\n",
      "|         Square Enix|  141.62153790852403|\n",
      "|          Tecmo Koei|  125.46722388417533|\n",
      "|        Midway Games|  105.79848721898134|\n",
      "|       Vivendi Games|   97.04919206101394|\n",
      "|   Eidos Interactive|    92.0055968718395|\n",
      "|  Bethesda Softworks|   90.87887387592578|\n",
      "+--------------------+--------------------+\n",
      "only showing top 20 rows\n",
      "\n"
     ]
    }
   ],
   "source": [
    "data.groupBy('PUBLISHER').sum('SalesInMillions').orderBy('sum(SalesInMillions)', ascending=False).show()"
   ]
  },
  {
   "cell_type": "code",
   "execution_count": 46,
   "id": "9d84dbf4",
   "metadata": {},
   "outputs": [
    {
     "name": "stdout",
     "output_type": "stream",
     "text": [
      "+------------+--------------------+\n",
      "|    CATEGORY|sum(SalesInMillions)|\n",
      "+------------+--------------------+\n",
      "|     shooter|  1085.6353916537596|\n",
      "|      action|   1731.855429148815|\n",
      "|    strategy|    206.302355121276|\n",
      "|    fighting|   363.9712335448475|\n",
      "|      racing|   672.6629381963066|\n",
      "|   adventure|   216.8839519102497|\n",
      "|        misc|   521.2175735745843|\n",
      "|  simulation|   308.9161357776841|\n",
      "|      sports|  1092.8326375030263|\n",
      "|role-playing|   794.9792650004375|\n",
      "|    platform|  506.64053683553317|\n",
      "|      puzzle|  109.70166296966089|\n",
      "+------------+--------------------+\n",
      "\n"
     ]
    }
   ],
   "source": [
    "data.groupBy(\"CATEGORY\").sum(\"SalesInMillions\").show()"
   ]
  },
  {
   "cell_type": "code",
   "execution_count": 53,
   "id": "0f20ec8f",
   "metadata": {},
   "outputs": [
    {
     "name": "stdout",
     "output_type": "stream",
     "text": [
      "+------------+-----+------------------+\n",
      "|    CATEGORY|count|        % of Games|\n",
      "+------------+-----+------------------+\n",
      "|     shooter|  441| 12.57843696520251|\n",
      "|      action|  845| 24.10154021677125|\n",
      "|    strategy|  132|3.7649743297204794|\n",
      "|    fighting|  187| 5.333713633770679|\n",
      "|      racing|  296| 8.442669709070165|\n",
      "|   adventure|  114|3.2515687393040507|\n",
      "|        misc|  220| 6.274957216200798|\n",
      "|  simulation|  150| 4.278379920136908|\n",
      "|      sports|  464|13.234455219623504|\n",
      "|role-playing|  380|10.838562464346833|\n",
      "|    platform|  218| 6.217912150598973|\n",
      "|      puzzle|   59|1.6828294352538506|\n",
      "+------------+-----+------------------+\n",
      "\n"
     ]
    }
   ],
   "source": [
    "games_by_cat = data.groupBy(\"CATEGORY\").count()\n",
    "total_games = data.count()\n",
    "games_by_cat.withColumn(\"% of Games\", games_by_cat[\"count\"] / total_games * 100).show()"
   ]
  },
  {
   "cell_type": "code",
   "execution_count": 30,
   "id": "e39fd573",
   "metadata": {},
   "outputs": [],
   "source": [
    "from pyspark.ml.feature import OneHotEncoder, StringIndexer, VectorAssembler, StandardScaler\n",
    "from pyspark.ml.regression import RandomForestRegressor\n",
    "from pyspark.ml.evaluation import RegressionEvaluator\n",
    "from pyspark.ml import Pipeline"
   ]
  },
  {
   "cell_type": "code",
   "execution_count": 31,
   "id": "a5849f68",
   "metadata": {},
   "outputs": [],
   "source": [
    "cat_cols = [\"CONSOLE\", \"CATEGORY\", \"PUBLISHER\", \"RATING\"]\n",
    "stages = []\n",
    "\n",
    "for c in cat_cols:\n",
    "    stringIndexer = StringIndexer(inputCol=c, outputCol=c + \"_index\")\n",
    "    encoder = OneHotEncoder(inputCols=[stringIndexer.getOutputCol()], \\\n",
    "            outputCols=[c + \"_vec\"])    \n",
    "    stages += [stringIndexer, encoder]\n",
    "    \n",
    "num_cols = [\"YEAR\", \"CRITICS_POINTS\", \"USER_POINTS\"]\n",
    "assemblerInputs = [c + \"_vec\" for c in cat_cols] + num_cols\n",
    "assembler = VectorAssembler(inputCols=assemblerInputs, outputCol=\"features\")\n",
    "stages += [assembler]\n",
    "\n",
    "pipeline = Pipeline(stages=stages)\n",
    "pipeline = pipeline.fit(data)\n",
    "train = pipeline.transform(data)"
   ]
  },
  {
   "cell_type": "code",
   "execution_count": 32,
   "id": "a14ce1ea",
   "metadata": {},
   "outputs": [
    {
     "data": {
      "text/plain": [
       "StandardScalerModel: uid=StandardScaler_366e3b0ed61d, numFeatures=238, withMean=false, withStd=true"
      ]
     },
     "execution_count": 32,
     "metadata": {},
     "output_type": "execute_result"
    }
   ],
   "source": [
    "scaler = StandardScaler().setInputCol('features').setOutputCol('scaled_features')\n",
    "scaler = scaler.fit(train)\n",
    "scaler"
   ]
  },
  {
   "cell_type": "code",
   "execution_count": 33,
   "id": "8ce77a8e",
   "metadata": {},
   "outputs": [],
   "source": [
    "train = scaler.transform(train)"
   ]
  },
  {
   "cell_type": "code",
   "execution_count": 51,
   "id": "5f1befd9",
   "metadata": {},
   "outputs": [
    {
     "data": {
      "text/plain": [
       "RandomForestRegressionModel: uid=RandomForestRegressor_a363160aad5d, numTrees=80, numFeatures=238"
      ]
     },
     "execution_count": 51,
     "metadata": {},
     "output_type": "execute_result"
    }
   ],
   "source": [
    "rfl = RandomForestRegressor(featuresCol='scaled_features', labelCol='SalesInMillions', numTrees=80)\n",
    "rfl = rfl.fit(train)\n",
    "rfl"
   ]
  },
  {
   "cell_type": "code",
   "execution_count": 66,
   "id": "502524b6",
   "metadata": {},
   "outputs": [
    {
     "name": "stdout",
     "output_type": "stream",
     "text": [
      "+-------+----+--------+---------------+------+------------------+-------------------+\n",
      "|CONSOLE|YEAR|CATEGORY|      PUBLISHER|RATING|    CRITICS_POINTS|        USER_POINTS|\n",
      "+-------+----+--------+---------------+------+------------------+-------------------+\n",
      "|    ps2|2008|  action|     Tecmo Koei|     T|3.9285714285714284|0.48235294117647054|\n",
      "|    psp|2007|strategy|          Atari|  E10+| 5.538461538461538|0.07179487179487179|\n",
      "|    ps2|2004| shooter|Electronic Arts|     T|3.0344827586206895|0.06204379562043796|\n",
      "|      x|2006|  action|Electronic Arts|     E|2.9130434782608696| 0.8800000000000001|\n",
      "|    3ds|2011|  racing|        Ubisoft|  E10+| 1.162162162162162|0.18333333333333335|\n",
      "+-------+----+--------+---------------+------+------------------+-------------------+\n",
      "only showing top 5 rows\n",
      "\n"
     ]
    }
   ],
   "source": [
    "test = spark.read.csv('Test.csv', header=True, inferSchema=True)\n",
    "test = test.drop('ID')\n",
    "test.show(5)"
   ]
  },
  {
   "cell_type": "code",
   "execution_count": 36,
   "id": "1bea8877",
   "metadata": {},
   "outputs": [
    {
     "name": "stdout",
     "output_type": "stream",
     "text": [
      "+------------------+\n",
      "|   SalesInMillions|\n",
      "+------------------+\n",
      "|1.4975327784054218|\n",
      "| 2.368795198397184|\n",
      "|2.6305046920917925|\n",
      "+------------------+\n",
      "only showing top 3 rows\n",
      "\n"
     ]
    }
   ],
   "source": [
    "target = spark.read.csv(\"Sample_Submission.csv\", header=True, inferSchema=True)\n",
    "target.show(3)"
   ]
  },
  {
   "cell_type": "code",
   "execution_count": 37,
   "id": "adb5bd1e",
   "metadata": {},
   "outputs": [],
   "source": [
    "test = test.join(target)"
   ]
  },
  {
   "cell_type": "code",
   "execution_count": 38,
   "id": "e34b7ade",
   "metadata": {},
   "outputs": [],
   "source": [
    "test = pipeline.transform(test)\n",
    "test = scaler.transform(test)"
   ]
  },
  {
   "cell_type": "code",
   "execution_count": 52,
   "id": "4edec663",
   "metadata": {
    "scrolled": true
   },
   "outputs": [],
   "source": [
    "test_pred = rfl.transform(test)"
   ]
  },
  {
   "cell_type": "code",
   "execution_count": 53,
   "id": "f39f4e09",
   "metadata": {},
   "outputs": [],
   "source": [
    "train_pred = rfl.transform(train)"
   ]
  },
  {
   "cell_type": "code",
   "execution_count": 61,
   "id": "8d0b9740",
   "metadata": {},
   "outputs": [
    {
     "name": "stdout",
     "output_type": "stream",
     "text": [
      "TRAIN RMSE: 1.68875269317499\n"
     ]
    }
   ],
   "source": [
    "evaluator = RegressionEvaluator(predictionCol=\"prediction\", labelCol='SalesInMillions', metricName=\"rmse\")\n",
    "\n",
    "print(\"TRAIN RMSE:\", evaluator.evaluate(train_pred))"
   ]
  },
  {
   "cell_type": "code",
   "execution_count": 69,
   "id": "15db24be",
   "metadata": {},
   "outputs": [],
   "source": [
    "spark.read.csv?"
   ]
  },
  {
   "cell_type": "code",
   "execution_count": null,
   "id": "7636e297",
   "metadata": {},
   "outputs": [],
   "source": []
  }
 ],
 "metadata": {
  "kernelspec": {
   "display_name": "Python 3 (ipykernel)",
   "language": "python",
   "name": "python3"
  },
  "language_info": {
   "codemirror_mode": {
    "name": "ipython",
    "version": 3
   },
   "file_extension": ".py",
   "mimetype": "text/x-python",
   "name": "python",
   "nbconvert_exporter": "python",
   "pygments_lexer": "ipython3",
   "version": "3.9.0"
  }
 },
 "nbformat": 4,
 "nbformat_minor": 5
}
